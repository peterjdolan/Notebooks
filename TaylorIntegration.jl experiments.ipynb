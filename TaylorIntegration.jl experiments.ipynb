{
 "cells": [
  {
   "cell_type": "code",
   "execution_count": 1,
   "metadata": {},
   "outputs": [
    {
     "name": "stderr",
     "output_type": "stream",
     "text": [
      "\u001b[1m\u001b[36mINFO: \u001b[39m\u001b[22m\u001b[36mPrecompiling module TaylorSeries.\n",
      "\u001b[39m\u001b[1m\u001b[36mINFO: \u001b[39m\u001b[22m\u001b[36mPrecompiling module Reexport.\n",
      "\u001b[39m\n",
      "WARNING: deprecated syntax \"abstract Functor{N}\" at /home/peterdolan/.julia/v0.6/FixedSizeArrays/src/FixedSizeArrays.jl:23.\n",
      "Use \"abstract type Functor{N} end\" instead.\n",
      "\u001b[1m\u001b[36mINFO: \u001b[39m\u001b[22m\u001b[36mPrecompiling module FixedSizeArrays.\n",
      "\u001b[39m\n",
      "WARNING: deprecated syntax \"abstract Functor{N}\" at /home/peterdolan/.julia/v0.6/FixedSizeArrays/src/FixedSizeArrays.jl:23.\n",
      "Use \"abstract type Functor{N} end\" instead.\n",
      "\n",
      "WARNING: deprecated syntax \"abstract FixedArray{T,NDim,SIZE}\" at /home/peterdolan/.julia/v0.6/FixedSizeArrays/src/core.jl:2.\n",
      "Use \"abstract type FixedArray{T,NDim,SIZE} end\" instead.\n",
      "\n",
      "WARNING: deprecated syntax \"abstract MutableFixedArray{T,NDim,SIZE}<:FixedArray{T,NDim,SIZE}\" at /home/peterdolan/.julia/v0.6/FixedSizeArrays/src/core.jl:3.\n",
      "Use \"abstract type MutableFixedArray{T,NDim,SIZE}<:FixedArray{T,NDim,SIZE} end\" instead.\n",
      "\n",
      "WARNING: deprecated syntax \"typealias MutableFixedVector{T,CARDINALITY} MutableFixedArray{T,1,Tuple{CARDINALITY}}\" at /home/peterdolan/.julia/v0.6/FixedSizeArrays/src/core.jl:5.\n",
      "Use \"MutableFixedVector{T,CARDINALITY} = MutableFixedArray{T,1,Tuple{CARDINALITY}}\" instead.\n",
      "\n",
      "WARNING: deprecated syntax \"typealias MutableFixedMatrix{T,M,N} MutableFixedArray{T,2,Tuple{M,N}}\" at /home/peterdolan/.julia/v0.6/FixedSizeArrays/src/core.jl:6.\n",
      "Use \"MutableFixedMatrix{T,M,N} = MutableFixedArray{T,2,Tuple{M,N}}\" instead.\n",
      "\n",
      "WARNING: deprecated syntax \"typealias FixedVector{CARDINALITY,T} FixedArray{T,1,Tuple{CARDINALITY}}\" at /home/peterdolan/.julia/v0.6/FixedSizeArrays/src/core.jl:8.\n",
      "Use \"FixedVector{CARDINALITY,T} = FixedArray{T,1,Tuple{CARDINALITY}}\" instead.\n",
      "\n",
      "WARNING: deprecated syntax \"typealias FixedMatrix{Row,Column,T} FixedArray{T,2,Tuple{Row,Column}}\" at /home/peterdolan/.julia/v0.6/FixedSizeArrays/src/core.jl:9.\n",
      "Use \"FixedMatrix{Row,Column,T} = FixedArray{T,2,Tuple{Row,Column}}\" instead.\n",
      "\n",
      "WARNING: deprecated syntax \"abstract FixedVectorNoTuple{CARDINALITY,T}<:FixedVector{CARDINALITY,T}\" at /home/peterdolan/.julia/v0.6/FixedSizeArrays/src/core.jl:11.\n",
      "Use \"abstract type FixedVectorNoTuple{CARDINALITY,T}<:FixedVector{CARDINALITY,T} end\" instead.\n",
      "WARNING: Base.linearindexing is deprecated, use Base.IndexStyle instead.\n",
      "  likely near /home/peterdolan/.julia/v0.6/FixedSizeArrays/src/destructure.jl:13\n",
      "WARNING: Base.linearindexing is deprecated, use Base.IndexStyle instead.\n",
      "  likely near /home/peterdolan/.julia/v0.6/FixedSizeArrays/src/destructure.jl:13\n",
      "\n",
      "WARNING: deprecated syntax \"function .+(...)\".\n",
      "Use \"function Base.broadcast(::typeof(+), ...)\" instead.\n",
      "\n",
      "WARNING: deprecated syntax \"function .+(...)\".\n",
      "Use \"function Base.broadcast(::typeof(+), ...)\" instead.\n",
      "\n",
      "WARNING: deprecated syntax \"function .+(...)\".\n",
      "Use \"function Base.broadcast(::typeof(+), ...)\" instead.\n",
      "\n",
      "WARNING: deprecated syntax \"function .+(...)\".\n",
      "Use \"function Base.broadcast(::typeof(+), ...)\" instead.\n",
      "\n",
      "WARNING: deprecated syntax \"function .+(...)\".\n",
      "Use \"function Base.broadcast(::typeof(+), ...)\" instead.\n",
      "\n",
      "WARNING: deprecated syntax \"function .-(...)\".\n",
      "Use \"function Base.broadcast(::typeof(-), ...)\" instead.\n",
      "\n",
      "WARNING: deprecated syntax \"function .-(...)\".\n",
      "Use \"function Base.broadcast(::typeof(-), ...)\" instead.\n",
      "\n",
      "WARNING: deprecated syntax \"function .-(...)\".\n",
      "Use \"function Base.broadcast(::typeof(-), ...)\" instead.\n",
      "\n",
      "WARNING: deprecated syntax \"function .-(...)\".\n",
      "Use \"function Base.broadcast(::typeof(-), ...)\" instead.\n",
      "\n",
      "WARNING: deprecated syntax \"function .-(...)\".\n",
      "Use \"function Base.broadcast(::typeof(-), ...)\" instead.\n",
      "\n",
      "WARNING: deprecated syntax \"function .*(...)\".\n",
      "Use \"function Base.broadcast(::typeof(*), ...)\" instead.\n",
      "\n",
      "WARNING: deprecated syntax \"function .*(...)\".\n",
      "Use \"function Base.broadcast(::typeof(*), ...)\" instead.\n",
      "\n",
      "WARNING: deprecated syntax \"function .*(...)\".\n",
      "Use \"function Base.broadcast(::typeof(*), ...)\" instead.\n",
      "\n",
      "WARNING: deprecated syntax \"function .*(...)\".\n",
      "Use \"function Base.broadcast(::typeof(*), ...)\" instead.\n",
      "\n",
      "WARNING: deprecated syntax \"function .*(...)\".\n",
      "Use \"function Base.broadcast(::typeof(*), ...)\" instead.\n",
      "\n",
      "WARNING: deprecated syntax \"function ./(...)\".\n",
      "Use \"function Base.broadcast(::typeof(/), ...)\" instead.\n",
      "\n",
      "WARNING: deprecated syntax \"function ./(...)\".\n",
      "Use \"function Base.broadcast(::typeof(/), ...)\" instead.\n",
      "\n",
      "WARNING: deprecated syntax \"function ./(...)\".\n",
      "Use \"function Base.broadcast(::typeof(/), ...)\" instead.\n",
      "\n",
      "WARNING: deprecated syntax \"function ./(...)\".\n",
      "Use \"function Base.broadcast(::typeof(/), ...)\" instead.\n",
      "\n",
      "WARNING: deprecated syntax \"function ./(...)\".\n",
      "Use \"function Base.broadcast(::typeof(/), ...)\" instead.\n",
      "\n",
      "WARNING: deprecated syntax \"function .\\(...)\".\n",
      "Use \"function Base.broadcast(::typeof(\\), ...)\" instead.\n",
      "\n",
      "WARNING: deprecated syntax \"function .\\(...)\".\n",
      "Use \"function Base.broadcast(::typeof(\\), ...)\" instead.\n",
      "\n",
      "WARNING: deprecated syntax \"function .\\(...)\".\n",
      "Use \"function Base.broadcast(::typeof(\\), ...)\" instead.\n",
      "\n",
      "WARNING: deprecated syntax \"function .\\(...)\".\n",
      "Use \"function Base.broadcast(::typeof(\\), ...)\" instead.\n",
      "\n",
      "WARNING: deprecated syntax \"function .\\(...)\".\n",
      "Use \"function Base.broadcast(::typeof(\\), ...)\" instead.\n",
      "\n",
      "WARNING: deprecated syntax \"function .^(...)\".\n",
      "Use \"function Base.broadcast(::typeof(^), ...)\" instead.\n",
      "\n",
      "WARNING: deprecated syntax \"function .^(...)\".\n",
      "Use \"function Base.broadcast(::typeof(^), ...)\" instead.\n",
      "\n",
      "WARNING: deprecated syntax \"function .^(...)\".\n",
      "Use \"function Base.broadcast(::typeof(^), ...)\" instead.\n",
      "\n",
      "WARNING: deprecated syntax \"function .^(...)\".\n",
      "Use \"function Base.broadcast(::typeof(^), ...)\" instead.\n",
      "\n",
      "WARNING: deprecated syntax \"function .^(...)\".\n",
      "Use \"function Base.broadcast(::typeof(^), ...)\" instead.\n",
      "\n",
      "WARNING: deprecated syntax \"function .==(...)\".\n",
      "Use \"function Base.broadcast(::typeof(==), ...)\" instead.\n",
      "\n",
      "WARNING: deprecated syntax \"function .==(...)\".\n",
      "Use \"function Base.broadcast(::typeof(==), ...)\" instead.\n",
      "\n",
      "WARNING: deprecated syntax \"function .==(...)\".\n",
      "Use \"function Base.broadcast(::typeof(==), ...)\" instead.\n",
      "\n",
      "WARNING: deprecated syntax \"function .==(...)\".\n",
      "Use \"function Base.broadcast(::typeof(==), ...)\" instead.\n",
      "\n",
      "WARNING: deprecated syntax \"function .==(...)\".\n",
      "Use \"function Base.broadcast(::typeof(==), ...)\" instead.\n",
      "\n",
      "WARNING: deprecated syntax \"function .!=(...)\".\n",
      "Use \"function Base.broadcast(::typeof(!=), ...)\" instead.\n",
      "\n",
      "WARNING: deprecated syntax \"function .!=(...)\".\n",
      "Use \"function Base.broadcast(::typeof(!=), ...)\" instead.\n",
      "\n",
      "WARNING: deprecated syntax \"function .!=(...)\".\n",
      "Use \"function Base.broadcast(::typeof(!=), ...)\" instead.\n",
      "\n",
      "WARNING: deprecated syntax \"function .!=(...)\".\n",
      "Use \"function Base.broadcast(::typeof(!=), ...)\" instead.\n",
      "\n",
      "WARNING: deprecated syntax \"function .!=(...)\".\n",
      "Use \"function Base.broadcast(::typeof(!=), ...)\" instead.\n",
      "\n",
      "WARNING: deprecated syntax \"function .<(...)\".\n",
      "Use \"function Base.broadcast(::typeof(<), ...)\" instead.\n",
      "\n",
      "WARNING: deprecated syntax \"function .<(...)\".\n",
      "Use \"function Base.broadcast(::typeof(<), ...)\" instead.\n",
      "\n",
      "WARNING: deprecated syntax \"function .<(...)\".\n",
      "Use \"function Base.broadcast(::typeof(<), ...)\" instead.\n",
      "\n",
      "WARNING: deprecated syntax \"function .<(...)\".\n",
      "Use \"function Base.broadcast(::typeof(<), ...)\" instead.\n",
      "\n",
      "WARNING: deprecated syntax \"function .<(...)\".\n",
      "Use \"function Base.broadcast(::typeof(<), ...)\" instead.\n",
      "\n",
      "WARNING: deprecated syntax \"function .<=(...)\".\n",
      "Use \"function Base.broadcast(::typeof(<=), ...)\" instead.\n",
      "\n",
      "WARNING: deprecated syntax \"function .<=(...)\".\n",
      "Use \"function Base.broadcast(::typeof(<=), ...)\" instead.\n",
      "\n",
      "WARNING: deprecated syntax \"function .<=(...)\".\n",
      "Use \"function Base.broadcast(::typeof(<=), ...)\" instead.\n",
      "\n",
      "WARNING: deprecated syntax \"function .<=(...)\".\n",
      "Use \"function Base.broadcast(::typeof(<=), ...)\" instead.\n",
      "\n",
      "WARNING: deprecated syntax \"function .<=(...)\".\n",
      "Use \"function Base.broadcast(::typeof(<=), ...)\" instead.\n",
      "\n",
      "WARNING: deprecated syntax \"function .>(...)\".\n",
      "Use \"function Base.broadcast(::typeof(>), ...)\" instead.\n",
      "\n",
      "WARNING: deprecated syntax \"function .>(...)\".\n",
      "Use \"function Base.broadcast(::typeof(>), ...)\" instead.\n",
      "\n",
      "WARNING: deprecated syntax \"function .>(...)\".\n",
      "Use \"function Base.broadcast(::typeof(>), ...)\" instead.\n",
      "\n",
      "WARNING: deprecated syntax \"function .>(...)\".\n",
      "Use \"function Base.broadcast(::typeof(>), ...)\" instead.\n",
      "\n",
      "WARNING: deprecated syntax \"function .>(...)\".\n",
      "Use \"function Base.broadcast(::typeof(>), ...)\" instead.\n",
      "\n",
      "WARNING: deprecated syntax \"function .>=(...)\".\n",
      "Use \"function Base.broadcast(::typeof(>=), ...)\" instead.\n",
      "\n",
      "WARNING: deprecated syntax \"function .>=(...)\".\n",
      "Use \"function Base.broadcast(::typeof(>=), ...)\" instead.\n",
      "\n",
      "WARNING: deprecated syntax \"function .>=(...)\".\n",
      "Use \"function Base.broadcast(::typeof(>=), ...)\" instead.\n",
      "\n",
      "WARNING: deprecated syntax \"function .>=(...)\".\n",
      "Use \"function Base.broadcast(::typeof(>=), ...)\" instead.\n",
      "\n",
      "WARNING: deprecated syntax \"function .>=(...)\".\n",
      "Use \"function Base.broadcast(::typeof(>=), ...)\" instead.\n"
     ]
    },
    {
     "name": "stderr",
     "output_type": "stream",
     "text": [
      "\n",
      "WARNING: deprecated syntax \"function .+(...)\".\n",
      "Use \"function Base.broadcast(::typeof(+), ...)\" instead.\n",
      "\u001b[1m\u001b[36mINFO: \u001b[39m\u001b[22m\u001b[36mPrecompiling module RecipesBase.\n",
      "\u001b[39m\u001b[1m\u001b[36mINFO: \u001b[39m\u001b[22m\u001b[36mPrecompiling module PlotUtils.\n",
      "\u001b[39m\u001b[1m\u001b[36mINFO: \u001b[39m\u001b[22m\u001b[36mPrecompiling module PlotThemes.\n",
      "\u001b[39m\u001b[1m\u001b[36mINFO: \u001b[39m\u001b[22m\u001b[36mPrecompiling module Showoff.\n",
      "\u001b[39m\u001b[1m\u001b[36mINFO: \u001b[39m\u001b[22m\u001b[36mPrecompiling module NaNMath.\n",
      "\u001b[39m\u001b[1m\u001b[33mWARNING: \u001b[39m\u001b[22m\u001b[33mCouldn't initialize pyplot.  (might need to install it?)\u001b[39m\n",
      "\u001b[1m\u001b[36mINFO: \u001b[39m\u001b[22m\u001b[36mTo do a standard install of pyplot, copy and run this:\n",
      "\n",
      "\u001b[39m"
     ]
    },
    {
     "name": "stdout",
     "output_type": "stream",
     "text": [
      "if !Plots.is_installed(\"PyPlot\")\n",
      "    Pkg.add(\"PyPlot\")\n",
      "end\n",
      "withenv(\"PYTHON\" => \"\") do\n",
      "    Pkg.build(\"PyPlot\")\n",
      "end\n",
      "\n",
      "# now restart julia!\n",
      "\n",
      "\n"
     ]
    },
    {
     "ename": "LoadError",
     "evalue": "\u001b[91mArgumentError: Module PyPlot not found in current path.\nRun `Pkg.add(\"PyPlot\")` to install the PyPlot package.\u001b[39m",
     "output_type": "error",
     "traceback": [
      "\u001b[91mArgumentError: Module PyPlot not found in current path.\nRun `Pkg.add(\"PyPlot\")` to install the PyPlot package.\u001b[39m",
      ""
     ]
    }
   ],
   "source": [
    "using TaylorIntegration, Plots\n",
    "pyplot()"
   ]
  },
  {
   "cell_type": "code",
   "execution_count": 2,
   "metadata": {},
   "outputs": [
    {
     "data": {
      "text/plain": [
       "28"
      ]
     },
     "execution_count": 2,
     "metadata": {},
     "output_type": "execute_result"
    }
   ],
   "source": [
    "const abstol = 1e-30\n",
    "const order = 28"
   ]
  },
  {
   "cell_type": "code",
   "execution_count": 3,
   "metadata": {},
   "outputs": [
    {
     "data": {
      "text/plain": [
       "drivenosc! (generic function with 1 method)"
      ]
     },
     "execution_count": 3,
     "metadata": {},
     "output_type": "execute_result"
    }
   ],
   "source": [
    "const Ω = 1.0 #forcing frequency\n",
    "const ϵ = 0.5 #forcing amplitude\n",
    "const ω = 1.1 #\"natural\" frequency\n",
    "const T = 2π/ω #period associated to oscillator's ω\n",
    "\n",
    "#the driven linear oscillator ODE:\n",
    "function drivenosc!(t, x, dx)\n",
    "    dx[1] = x[2]\n",
    "    dx[2] = -(ω^2)*x[1]+ϵ*cos(Ω*t)\n",
    "    nothing\n",
    "end"
   ]
  },
  {
   "cell_type": "code",
   "execution_count": 4,
   "metadata": {},
   "outputs": [
    {
     "data": {
      "text/plain": [
       "571.1986642890532"
      ]
     },
     "execution_count": 4,
     "metadata": {},
     "output_type": "execute_result"
    }
   ],
   "source": [
    "const t0 = 0.0 #initial time\n",
    "const x0 = [1.0,0.0] #initial condition\n",
    "#const x0 = [1.0,0.0,Ω*t0] #initial condition\n",
    "const tmax = 100*T # 200*T #final time of integration"
   ]
  },
  {
   "cell_type": "code",
   "execution_count": 5,
   "metadata": {},
   "outputs": [
    {
     "data": {
      "text/plain": [
       "x_part (generic function with 1 method)"
      ]
     },
     "execution_count": 5,
     "metadata": {},
     "output_type": "execute_result"
    }
   ],
   "source": [
    "x_part(t) = ϵ*cos(Ω*t)/(ω^2-Ω^2)"
   ]
  },
  {
   "cell_type": "code",
   "execution_count": 6,
   "metadata": {},
   "outputs": [
    {
     "data": {
      "text/plain": [
       "(1.3809523809523787, -1.5707963267948966)"
      ]
     },
     "execution_count": 6,
     "metadata": {},
     "output_type": "execute_result"
    }
   ],
   "source": [
    "const a = sqrt( (x0[1]-ϵ/(ω^2-Ω^2))^2+(x0[2]^2/ω^2) ) #amplitude\n",
    "const δ = atan((ω*(x0[1]-ϵ/(ω^2-Ω^2))/x0[2])) #phase shift\n",
    "\n",
    "x_gral(t) = a*sin(ω*t+δ)+x_part(t)\n",
    "\n",
    "a, δ"
   ]
  },
  {
   "cell_type": "code",
   "execution_count": 7,
   "metadata": {},
   "outputs": [
    {
     "data": {
      "text/plain": [
       " 1.0 + 9.30148402209536e-17 t - 0.3550000000000001 t² - 1.8757992777892314e-17 t³ + 𝒪(t⁴)"
      ]
     },
     "execution_count": 7,
     "metadata": {},
     "output_type": "execute_result"
    }
   ],
   "source": [
    "t_poly = TaylorSeries.Taylor1([0.0, 1.0], 3) #A Taylor polynomial which represents time\n",
    "x_gral(t_poly) #evaluate x_gral at t_poly"
   ]
  },
  {
   "cell_type": "code",
   "execution_count": 8,
   "metadata": {},
   "outputs": [
    {
     "name": "stdout",
     "output_type": "stream",
     "text": [
      "  0.642436 seconds (616.31 k allocations: 56.363 MiB, 4.12% gc time)\n"
     ]
    }
   ],
   "source": [
    "@time tT, xT = taylorinteg(drivenosc!, x0, t0, tmax, order, abstol, maxsteps=50000);"
   ]
  },
  {
   "cell_type": "code",
   "execution_count": 11,
   "metadata": {},
   "outputs": [
    {
     "name": "stderr",
     "output_type": "stream",
     "text": [
      "\u001b[1m\u001b[36mINFO: \u001b[39m\u001b[22m\u001b[36mPrecompiling module PyPlot.\n",
      "\u001b[39m\u001b[1m\u001b[36mINFO: \u001b[39m\u001b[22m\u001b[36mInstalling matplotlib via the Conda matplotlib package...\n",
      "\u001b[39m"
     ]
    },
    {
     "name": "stdout",
     "output_type": "stream",
     "text": [
      "Fetching package metadata .........\n",
      "Solving package specifications: .\n",
      "\n",
      "Package plan for installation in environment /home/peterdolan/.julia/v0.6/Conda/deps/usr:\n",
      "\n",
      "The following NEW packages will be INSTALLED:\n",
      "\n",
      "    cairo:        1.14.8-0         \n",
      "    cycler:       0.10.0-py27_0    \n",
      "    matplotlib:   2.0.2-np113py27_0\n",
      "    pixman:       0.34.0-0         \n",
      "    pycairo:      1.10.0-py27_0    \n",
      "    pytz:         2017.2-py27_0    \n",
      "    subprocess32: 3.2.7-py27_0     \n",
      "\n",
      "pixman-0.34.0- 100% |###############################| Time: 0:00:00   6.74 MB/s##############              | ETA:  0:00:00   4.97 MB/s\n",
      "pytz-2017.2-py 100% |###############################| Time: 0:00:00  16.75 MB/s#############| Time: 0:00:00  16.48 MB/s\n",
      "subprocess32-3 100% |###############################| Time: 0:00:00  13.95 MB/s\n",
      "cycler-0.10.0- 100% |###############################| Time: 0:00:00   7.51 MB/s\n",
      "cairo-1.14.8-0 100% |###############################| Time: 0:00:00  16.16 MB/s\n",
      "pycairo-1.10.0 100% |###############################| Time: 0:00:00  14.37 MB/s\n",
      "matplotlib-2.0 100% |###############################| Time: 0:00:01  10.78 MB/stplotlib-2.0  13% |####                           | Time: 0:00:00  15.82 MB/s                  | Time: 0:00:00  16.05 MB/s0  17.84 MB/stplotlib-2.0  51% |################               | Time: 0:00:00  14.10 MB/s% |##################             | Time: 0:00:00  12.24 MB/s#######           | Time: 0:00:00   8.11 MB/stplotlib-2.0  89% |###########################    | Time: 0:00:00  10.02 MB/s% |############################## | Time: 0:00:01  10.55 MB/s\n"
     ]
    },
    {
     "name": "stderr",
     "output_type": "stream",
     "text": [
      "\u001b[1m\u001b[33mWARNING: \u001b[39m\u001b[22m\u001b[33mNo working GUI backend found for matplotlib\u001b[39m\n"
     ]
    },
    {
     "ename": "LoadError",
     "evalue": "\u001b[91mMethodError: no method matching gcf()\nThe applicable method may be too new: running in world age 24074, while current world is 24093.\u001b[0m\nClosest candidates are:\n  gcf() at /home/peterdolan/.julia/v0.6/PyPlot/src/PyPlot.jl:147 (method too new to be called from this world context.)\u001b[39m",
     "output_type": "error",
     "traceback": [
      "\u001b[91mMethodError: no method matching gcf()\nThe applicable method may be too new: running in world age 24074, while current world is 24093.\u001b[0m\nClosest candidates are:\n  gcf() at /home/peterdolan/.julia/v0.6/PyPlot/src/PyPlot.jl:147 (method too new to be called from this world context.)\u001b[39m",
      "",
      "Stacktrace:",
      " [1] \u001b[1m_create_backend_figure\u001b[22m\u001b[22m\u001b[1m(\u001b[22m\u001b[22m::Plots.Plot{Plots.PyPlotBackend}\u001b[1m)\u001b[22m\u001b[22m at \u001b[1m/home/peterdolan/.julia/v0.6/Plots/src/backends/pyplot.jl:385\u001b[22m\u001b[22m",
      " [2] \u001b[1m_plot_setup\u001b[22m\u001b[22m\u001b[1m(\u001b[22m\u001b[22m::Plots.Plot{Plots.PyPlotBackend}, ::Dict{Symbol,Any}, ::Array{Dict{Symbol,Any},1}\u001b[1m)\u001b[22m\u001b[22m at \u001b[1m/home/peterdolan/.julia/v0.6/Plots/src/pipeline.jl:216\u001b[22m\u001b[22m",
      " [3] \u001b[1m_plot!\u001b[22m\u001b[22m\u001b[1m(\u001b[22m\u001b[22m::Plots.Plot{Plots.PyPlotBackend}, ::Dict{Symbol,Any}, ::Tuple{StepRangeLen{Float64,Base.TwicePrecision{Float64},Base.TwicePrecision{Float64}},Array{Float64,1}}\u001b[1m)\u001b[22m\u001b[22m at \u001b[1m/home/peterdolan/.julia/v0.6/Plots/src/plot.jl:198\u001b[22m\u001b[22m",
      " [4] \u001b[1m#plot#136\u001b[22m\u001b[22m\u001b[1m(\u001b[22m\u001b[22m::Array{Any,1}, ::Function, ::StepRangeLen{Float64,Base.TwicePrecision{Float64},Base.TwicePrecision{Float64}}, ::Vararg{Any,N} where N\u001b[1m)\u001b[22m\u001b[22m at \u001b[1m/home/peterdolan/.julia/v0.6/Plots/src/plot.jl:52\u001b[22m\u001b[22m",
      " [5] \u001b[1m(::RecipesBase.#kw##plot)\u001b[22m\u001b[22m\u001b[1m(\u001b[22m\u001b[22m::Array{Any,1}, ::RecipesBase.#plot, ::StepRangeLen{Float64,Base.TwicePrecision{Float64},Base.TwicePrecision{Float64}}, ::Array{Float64,1}, ::Vararg{Array{Float64,1},N} where N\u001b[1m)\u001b[22m\u001b[22m at \u001b[1m./<missing>:0\u001b[22m\u001b[22m"
     ]
    }
   ],
   "source": [
    "\n",
    "# x vs t, the first steps\n",
    "firsti =1 # length(tT2)-20\n",
    "lasti =10 # length(tT2)\n",
    "myrange=firsti:lasti\n",
    "lint = linspace(tT[firsti], tT[lasti], 10*length(myrange))\n",
    "plot(\n",
    "lint/T,\n",
    "x_gral.(lint),\n",
    "xaxis=\"time, t\",\n",
    "yaxis=\"x(t)\",\n",
    "title=\"x vs t\",\n",
    "label=\"analytical\"\n",
    "#leg=false\n",
    ")\n",
    "plot!(\n",
    "tT[myrange]/T,\n",
    "xT[myrange,1],\n",
    "xaxis=\"time, t\",\n",
    "yaxis=\"x(t)\",\n",
    "title=\"x vs t\",\n",
    "label=\"numerical\",\n",
    "leg=false\n",
    ")\n",
    "scatter!(\n",
    "tT[myrange]/T,\n",
    "xT[myrange,1],\n",
    "label=\"numerical\",\n",
    "leg=true,\n",
    "ms=3.0\n",
    ")"
   ]
  },
  {
   "cell_type": "code",
   "execution_count": 10,
   "metadata": {},
   "outputs": [
    {
     "name": "stderr",
     "output_type": "stream",
     "text": [
      "\u001b[1m\u001b[36mINFO: \u001b[39m\u001b[22m\u001b[36mCloning cache of LaTeXStrings from https://github.com/stevengj/LaTeXStrings.jl.git\n",
      "\u001b[39m\u001b[1m\u001b[36mINFO: \u001b[39m\u001b[22m\u001b[36mCloning cache of PyPlot from https://github.com/JuliaPy/PyPlot.jl.git\n",
      "\u001b[39m\u001b[1m\u001b[36mINFO: \u001b[39m\u001b[22m\u001b[36mInstalling LaTeXStrings v0.2.1\n",
      "\u001b[39m\u001b[1m\u001b[36mINFO: \u001b[39m\u001b[22m\u001b[36mInstalling PyPlot v2.3.2\n",
      "\u001b[39m\u001b[1m\u001b[36mINFO: \u001b[39m\u001b[22m\u001b[36mBuilding Conda\n",
      "\u001b[39m\u001b[1m\u001b[36mINFO: \u001b[39m\u001b[22m\u001b[36mBuilding PyCall\n",
      "\u001b[39m\u001b[1m\u001b[36mINFO: \u001b[39m\u001b[22m\u001b[36mPyCall is using /usr/bin/python (Python 2.7.12) at /usr/bin/python, libpython = libpython2.7\n",
      "\u001b[39m\u001b[1m\u001b[36mINFO: \u001b[39m\u001b[22m\u001b[36m/home/peterdolan/.julia/v0.6/PyCall/deps/deps.jl has not changed\n",
      "\u001b[39m\u001b[1m\u001b[36mINFO: \u001b[39m\u001b[22m\u001b[36m/home/peterdolan/.julia/v0.6/PyCall/deps/PYTHON has not changed\n",
      "\u001b[39m\u001b[1m\u001b[36mINFO: \u001b[39m\u001b[22m\u001b[36mPackage database updated\n",
      "\u001b[39m\u001b[1m\u001b[36mINFO: \u001b[39m\u001b[22m\u001b[36mBuilding Conda\n",
      "\u001b[39m\u001b[1m\u001b[36mINFO: \u001b[39m\u001b[22m\u001b[36mBuilding PyCall\n",
      "\u001b[39m\u001b[1m\u001b[36mINFO: \u001b[39m\u001b[22m\u001b[36mUsing the Python distribution in the Conda package by default.\n",
      "To use a different Python version, set ENV[\"PYTHON\"]=\"pythoncommand\" and re-run Pkg.build(\"PyCall\").\n",
      "\u001b[39m\u001b[1m\u001b[36mINFO: \u001b[39m\u001b[22m\u001b[36mPyCall is using /home/peterdolan/.julia/v0.6/Conda/deps/usr/bin/python (Python 2.7.13) at /home/peterdolan/.julia/v0.6/Conda/deps/usr/bin/python, libpython = /home/peterdolan/.julia/v0.6/Conda/deps/usr/lib/libpython2.7\n",
      "\u001b[39m\u001b[1m\u001b[36mINFO: \u001b[39m\u001b[22m\u001b[36m/home/peterdolan/.julia/v0.6/PyCall/deps/deps.jl has been updated\n",
      "\u001b[39m\u001b[1m\u001b[36mINFO: \u001b[39m\u001b[22m\u001b[36m/home/peterdolan/.julia/v0.6/PyCall/deps/PYTHON has been updated\n",
      "\u001b[39m"
     ]
    }
   ],
   "source": [
    "if !Plots.is_installed(\"PyPlot\")\n",
    "    Pkg.add(\"PyPlot\")\n",
    "end\n",
    "withenv(\"PYTHON\" => \"\") do\n",
    "    Pkg.build(\"PyPlot\")\n",
    "end"
   ]
  },
  {
   "cell_type": "code",
   "execution_count": null,
   "metadata": {
    "collapsed": true
   },
   "outputs": [],
   "source": []
  }
 ],
 "metadata": {
  "kernelspec": {
   "display_name": "Julia 0.6.0",
   "language": "julia",
   "name": "julia-0.6"
  },
  "language_info": {
   "file_extension": ".jl",
   "mimetype": "application/julia",
   "name": "julia",
   "version": "0.6.0"
  }
 },
 "nbformat": 4,
 "nbformat_minor": 2
}
