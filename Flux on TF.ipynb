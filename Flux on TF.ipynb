{
 "cells": [
  {
   "cell_type": "code",
   "execution_count": 3,
   "metadata": {},
   "outputs": [
    {
     "name": "stderr",
     "output_type": "stream",
     "text": [
      "WARNING: Base.repeated is deprecated, use Base.Iterators.repeated instead.\n",
      "  likely near /home/peterdolan/.julia/v0.6/Flux/src/backend/tensorflow/tensorflow.jl:3\n",
      "WARNING: Base.repeated is deprecated, use Base.Iterators.repeated instead.\n",
      "  likely near /home/peterdolan/.julia/v0.6/Flux/src/backend/tensorflow/tensorflow.jl:3\n",
      "WARNING: Base.repeated is deprecated, use Base.Iterators.repeated instead.\n",
      "  likely near /home/peterdolan/.julia/v0.6/Flux/src/backend/tensorflow/tensorflow.jl:3\n",
      "WARNING: Base.repeated is deprecated, use Base.Iterators.repeated instead.\n",
      "  likely near /home/peterdolan/.julia/v0.6/Flux/src/backend/tensorflow/tensorflow.jl:3\n",
      "WARNING: Base.repeated is deprecated, use Base.Iterators.repeated instead.\n",
      "  likely near /home/peterdolan/.julia/v0.6/Flux/src/backend/tensorflow/tensorflow.jl:3\n",
      "\u001b[1m\u001b[36mINFO: \u001b[39m\u001b[22m\u001b[36mEpoch 1\n",
      "\u001b[39m2017-06-22 15:17:07.300132: W tensorflow/core/platform/cpu_feature_guard.cc:45] The TensorFlow library wasn't compiled to use SSE4.1 instructions, but these are available on your machine and could speed up CPU computations.\n",
      "2017-06-22 15:17:07.302235: W tensorflow/core/platform/cpu_feature_guard.cc:45] The TensorFlow library wasn't compiled to use SSE4.2 instructions, but these are available on your machine and could speed up CPU computations.\n"
     ]
    },
    {
     "ename": "LoadError",
     "evalue": "\u001b[91mUndefVarError: back! not defined\u001b[39m",
     "output_type": "error",
     "traceback": [
      "\u001b[91mUndefVarError: back! not defined\u001b[39m",
      "",
      "Stacktrace:",
      " [1] \u001b[1mmacro expansion\u001b[22m\u001b[22m at \u001b[1m/home/peterdolan/.julia/v0.6/Flux/src/training.jl:37\u001b[22m\u001b[22m [inlined]",
      " [2] \u001b[1mmacro expansion\u001b[22m\u001b[22m at \u001b[1m/home/peterdolan/.julia/v0.6/Juno/src/progress.jl:128\u001b[22m\u001b[22m [inlined]",
      " [3] \u001b[1mmacro expansion\u001b[22m\u001b[22m at \u001b[1m/home/peterdolan/.julia/v0.6/Flux/src/training.jl:16\u001b[22m\u001b[22m [inlined]",
      " [4] \u001b[1mmacro expansion\u001b[22m\u001b[22m at \u001b[1m/home/peterdolan/.julia/v0.6/Juno/src/progress.jl:128\u001b[22m\u001b[22m [inlined]",
      " [5] \u001b[1m#train!#107\u001b[22m\u001b[22m\u001b[1m(\u001b[22m\u001b[22m::Array{##3#4,1}, ::Int64, ::Float64, ::Function, ::Function, ::Flux.TF.Model, ::Array{Tuple{Array{Float64,1},Array{Int64,1}},1}\u001b[1m)\u001b[22m\u001b[22m at \u001b[1m/home/peterdolan/.julia/v0.6/Flux/src/training.jl:30\u001b[22m\u001b[22m",
      " [6] \u001b[1m(::Flux.#kw##train!)\u001b[22m\u001b[22m\u001b[1m(\u001b[22m\u001b[22m::Array{Any,1}, ::Flux.#train!, ::Flux.TF.Model, ::Array{Tuple{Array{Float64,1},Array{Int64,1}},1}\u001b[1m)\u001b[22m\u001b[22m at \u001b[1m./<missing>:0\u001b[22m\u001b[22m"
     ]
    }
   ],
   "source": [
    "using Flux, MNIST\n",
    "using Flux: accuracy, onehot\n",
    "\n",
    "data = [(trainfeatures(i), onehot(trainlabel(i), 0:9)) for i = 1:60_000]\n",
    "train = data[1:50_000]\n",
    "test = data[50_001:60_000]\n",
    "\n",
    "m = @Chain(\n",
    "  Input(784),\n",
    "  Affine(128), relu,\n",
    "  Affine( 64), relu,\n",
    "  Affine( 10), softmax)\n",
    "\n",
    "model = tf(m)\n",
    "\n",
    "Flux.train!(model, train, η = 1e-3,\n",
    "            cb = [()->@show accuracy(m, test)])"
   ]
  }
 ],
 "metadata": {
  "kernelspec": {
   "display_name": "Julia 0.6.0",
   "language": "julia",
   "name": "julia-0.6"
  },
  "language_info": {
   "file_extension": ".jl",
   "mimetype": "application/julia",
   "name": "julia",
   "version": "0.6.0"
  }
 },
 "nbformat": 4,
 "nbformat_minor": 2
}
