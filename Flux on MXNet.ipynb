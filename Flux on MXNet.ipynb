{
 "cells": [
  {
   "cell_type": "code",
   "execution_count": 1,
   "metadata": {},
   "outputs": [
    {
     "ename": "LoadError",
     "evalue": "\u001b[91mUndefVarError: onehot not defined\u001b[39m",
     "output_type": "error",
     "traceback": [
      "\u001b[91mUndefVarError: onehot not defined\u001b[39m",
      "",
      "Stacktrace:",
      " [1] \u001b[1mcollect\u001b[22m\u001b[22m\u001b[1m(\u001b[22m\u001b[22m::Base.Generator{UnitRange{Int64},##1#2}\u001b[1m)\u001b[22m\u001b[22m at \u001b[1m./array.jl:441\u001b[22m\u001b[22m"
     ]
    }
   ],
   "source": [
    "using Flux, MNIST\n",
    "using Flux: accuracy\n",
    "\n",
    "data = [(trainfeatures(i), onehot(trainlabel(i), 0:9)) for i = 1:60_000]\n",
    "train = data[1:50_000]\n",
    "test = data[50_001:60_000]\n",
    "\n",
    "m = @Chain(\n",
    "  Input(784),\n",
    "  Affine(128), relu,\n",
    "  Affine( 64), relu,\n",
    "  Affine( 10), softmax)\n",
    "\n",
    "model = tf(m)\n",
    "\n",
    "Flux.train!(model, train, η = 1e-3,\n",
    "            cb = [()->@show accuracy(m, test)])"
   ]
  }
 ],
 "metadata": {
  "kernelspec": {
   "display_name": "Julia 0.6.0",
   "language": "julia",
   "name": "julia-0.6"
  },
  "language_info": {
   "file_extension": ".jl",
   "mimetype": "application/julia",
   "name": "julia",
   "version": "0.6.0"
  }
 },
 "nbformat": 4,
 "nbformat_minor": 2
}
